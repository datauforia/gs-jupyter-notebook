{
 "cells": [
  {
   "cell_type": "markdown",
   "id": "dca92eb0",
   "metadata": {},
   "source": [
    "# Getting Started with Jupyter Notebook\n",
    "\n",
    "This notebook forms a part of the broader series on [Getting Started with Jupyter Notebook](https://www.manning.com/liveproject/getting-started-with-jupyter-notebook), a live project offering by [Manning](https://www.manning.com/) publishers and supported by Orsolya Putz and Zoltan Varju.\n",
    "\n",
    "## Setting up the environment\n",
    "\n",
    "This notebook requires the establishment of a virtual environment, with `venv` being used for this project. `pip` was used to export (`freeze`) the packages installed into the default `requirements.txt` file. A `.gitignore` file was used to exclude both the `.venv` sub-directory as well as jupyter notebook runtime artefacts (`.ipynb_checkpoints`).\n",
    "\n",
    "## Greeting\n",
    "The `greeting()` function below address the first deliverable of this live project, namely a function that displays ```python\n",
    "Hello world\n",
    "```\n",
    "\n",
    "The output has been saved as a html file in the [outputs](\"../outputs/gsj-env.html\")"
   ]
  },
  {
   "cell_type": "code",
   "execution_count": 1,
   "id": "e0583472",
   "metadata": {},
   "outputs": [],
   "source": [
    "def greeting():\n",
    "    \"\"\"\n",
    "    Return the greeting 'Hello World!'.\n",
    "    \"\"\"\n",
    "    greet_str = \"Hello World!\"\n",
    "    return greet_str"
   ]
  },
  {
   "cell_type": "code",
   "execution_count": 2,
   "id": "85e0ad90",
   "metadata": {},
   "outputs": [
    {
     "data": {
      "text/plain": [
       "'Hello World!'"
      ]
     },
     "execution_count": 2,
     "metadata": {},
     "output_type": "execute_result"
    }
   ],
   "source": [
    "greeting()"
   ]
  }
 ],
 "metadata": {
  "kernelspec": {
   "display_name": "Python 3 (ipykernel)",
   "language": "python",
   "name": "python3"
  },
  "language_info": {
   "codemirror_mode": {
    "name": "ipython",
    "version": 3
   },
   "file_extension": ".py",
   "mimetype": "text/x-python",
   "name": "python",
   "nbconvert_exporter": "python",
   "pygments_lexer": "ipython3",
   "version": "3.8.10"
  }
 },
 "nbformat": 4,
 "nbformat_minor": 5
}
